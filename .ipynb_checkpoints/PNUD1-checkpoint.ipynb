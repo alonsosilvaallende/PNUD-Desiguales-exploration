{
 "cells": [
  {
   "cell_type": "raw",
   "metadata": {},
   "source": [
    "<script>\n",
    "  jQuery(document).ready(function($) {\n",
    "\n",
    "  $(window).load(function(){\n",
    "    $('#preloader').fadeOut('slow',function(){$(this).remove();});\n",
    "  });\n",
    "\n",
    "  });\n",
    "</script>\n",
    "\n",
    "<style type=\"text/css\">\n",
    "  div#preloader { position: fixed;\n",
    "      left: 0;\n",
    "      top: 0;\n",
    "      z-index: 999;\n",
    "      width: 100%;\n",
    "      height: 100%;\n",
    "      overflow: visible;\n",
    "      background: #fff url('http://preloaders.net/preloaders/720/Moving%20line.gif') no-repeat center center;\n",
    "  }\n",
    "\n",
    "</style>\n",
    "\n",
    "<div id=\"preloader\"></div>"
   ]
  },
  {
   "cell_type": "raw",
   "metadata": {},
   "source": [
    "<script>\n",
    "  function code_toggle() {\n",
    "    if (code_shown){\n",
    "      $('div.input').hide('500');\n",
    "      $('#toggleButton').val('Mostrar código')\n",
    "    } else {\n",
    "      $('div.input').show('500');\n",
    "      $('#toggleButton').val('Esconder código')\n",
    "    }\n",
    "    code_shown = !code_shown\n",
    "  }\n",
    "\n",
    "  $( document ).ready(function(){\n",
    "    code_shown=false;\n",
    "    $('div.input').hide()\n",
    "  });\n",
    "</script>\n",
    "<form action=\"javascript:code_toggle()\"><input type=\"submit\" id=\"toggleButton\" value=\"Mostrar código\"></form>"
   ]
  },
  {
   "cell_type": "markdown",
   "metadata": {},
   "source": [
    "# Satisfacción personal, libertad para elegir, y tramo socioeconómico al que perteneces\n",
    "\n",
    "*[Alonso Silva](http://www.dim.uchile.cl/~alsilva/)* [(@alonsosilva)](https://twitter.com/alonsosilva) | 2017/08/11\n",
    "\n",
    "*Nota: La base de datos que se utiliza a continuación puede ser obtenida [aquí](https://www.desiguales.org/s/PNUD_DES_2016_publica.csv), gracias a que el [PNUD](http://www.undp.org/content/undp/es/home.html) dejó a libre disposición los datos obtenidos en la encuesta realizada para el libro [\"Desiguales: Orígenes, cambios y desafíos de la brecha social en Chile\"](https://www.desiguales.org/). ¡Muchísimas gracias!.*\n",
    "\n",
    "*Advertencia: No utilicé los ponderadores para que la muestra sea representativa de Chile, de hecho no sé cómo hacerlo pero espero que los resultados no cambien mucho.*\n",
    "\n",
    "<figure>\n",
    "<img src=\"http://www.dim.uchile.cl/~alsilva/Images/old-man.jpg\"/>\n",
    "<figcaption>\n",
    "<div align=\"center\"><a href=\"https://www.flickr.com/photos/rodrigoparedes/19449446353/in/photolist-vCFuMX-JapTdB-ARyecb-bRajgB-AutCwJ-FQ9Baj-vT3RwS-9uikey-9oUbAM-bSiiwg-5EfLbF-DiMrmx-8RyKy2-AEzSgA-eg8pEh-h4RoLa-akm1rW-f4uspq-M7qtT6-wdHJZJ-5Ek19N-aunXez-kB8EJF-stLcMo-agmsaZ-8ccQ7t-sP7h27-ymtbea-dPrtPN-cReygW-8bemnF-D3prze-fYtabP-eGtLiD-keFP3T-xmULZb-jwwEu4-CE8sVy-dvCwjz-db55VC-9ps1TW-ntDnzi-faHmZ8-beQowr-y46hvV-cT8UJ-a3JPMz-t6rvBm-yuJLQT-ASB7mv/\">\"Old man\"</a> por <a href=\"https://www.flickr.com/photos/rodrigoparedes/\">::RodrixParedes::</a> licenciado bajo <a href=\"https://creativecommons.org/licenses/by/2.0/\"> CC BY 2.0</a>\n",
    "</div>\n",
    "</figcaption>\n",
    "</figure>"
   ]
  },
  {
   "cell_type": "markdown",
   "metadata": {},
   "source": [
    "En este post, me focalizo en sólo tres preguntas de dicha base de datos (en el futuro espero obtener resultados más interesantes con las otras preguntas, así que si tiene sugerencias, no dude en escribirlas en los comentarios). Primero necesito descargar los datos e importar algunos paquetes necesarios para trabajar con los datos (no se asuste y siga leyendo más abajo)."
   ]
  },
  {
   "cell_type": "code",
   "execution_count": 10,
   "metadata": {},
   "outputs": [],
   "source": [
    "# Importar algunos paquetes que necesitaremos más adelante\n",
    "import numpy as np\n",
    "import pandas as pd\n",
    "import seaborn as sns\n",
    "import matplotlib.pyplot as plt\n",
    "%matplotlib inline\n",
    "%config InlineBackend.figure_format = 'retina'"
   ]
  },
  {
   "cell_type": "code",
   "execution_count": 2,
   "metadata": {
    "collapsed": true
   },
   "outputs": [],
   "source": [
    "df = pd.read_csv('PNUD_DES_2016_publica.csv')"
   ]
  },
  {
   "cell_type": "code",
   "execution_count": 3,
   "metadata": {
    "collapsed": true
   },
   "outputs": [],
   "source": [
    "# Tabla de ingresos\n",
    "dict = {'Tramo del ingreso': [1, 2, 3, 4, 5, 6],\n",
    "        '1 persona': ['0 a \\$105.000', '\\$105.001 a \\$152.000', '\\$152.001 a \\$267.000', '\\$267.001 a \\$544.000', '\\$544.001 a \\$1.100.000', '\\$1.100.001 o más'],\n",
    "        '2 personas': ['0 a \\$171.000', '\\$171.001 a \\$247.000', '\\$247.001 a \\$434.000', '\\$434.001 a \\$880.000', '\\$880.001 a \\$1.780.000', '\\$1.780.001 o más'],\n",
    "        '3 personas': ['0 a \\$227.000', '\\$227.001 a \\$328.000', '\\$328.001 a \\$580.000', '\\$580.001 a \\$1.180.000', '\\$1.180.001 a \\$2.370.000', '\\$2.370.001 o más'],\n",
    "        '4 personas': ['0 a \\$278.000', '\\$278.001 a \\$401.000', '\\$401.001 a \\$705.000', '\\$705.001 a \\$1.450.000', '\\$1.450.001 a \\$2.900.000', '\\$2.900.001 o más'],\n",
    "        '5 personas': ['0 a \\$325.000', '\\$325.001 a \\$470.000', '\\$470.001 a \\$825.000', '\\$825.001 a \\$1.700.000', '\\$1.700.001 a \\$3.400.000', '\\$3.400.001 o más'],\n",
    "        '6 y más personas': ['0 a \\$370.000', '\\$370.001 a \\$530.000', '\\$530.001 a \\$940.000', '\\$940.001 a \\$1.900.000', '\\$1.900.001 a \\$3.800.000', '\\$3.800.001 o más']\n",
    "}\n",
    "df1 = pd.DataFrame(dict)"
   ]
  },
  {
   "cell_type": "markdown",
   "metadata": {},
   "source": [
    "Las tres preguntas en que me focalizaré son las siguientes:\n",
    "\n",
    "**Pregunta 6.-** Considerando todas las cosas, ¿cuán satisfecho o insatisfecho está usted con su vida en este momento? Por favor use esta tarjeta en que 1 significa que usted está \"completamente insatisfecho\" y 10 significa que usted está \"completamente satisfecho\"\n",
    "\n",
    "**Pregunta 7.-** Imagine una escalera de 10 escalones donde en la parte de abajo, el primer escalón, están las personas que no tienen libertad de elegir y/o decidir sobre su vida y en el escalón más alto, el décimo, están los que tienen más libertad de elegir y/o decidir sobre su vida. ¿En qué escalón está usted hoy?\n",
    "\n",
    "**Pregunta 67.-** ¿En cuál de los siguientes rangos estima usted que se ubica el ingreso mensual **total de su hogar** (incluya sueldos, pensiones, rentas, etc.)? Considere el **ingreso líquido de todas estas personas juntas.**"
   ]
  },
  {
   "cell_type": "code",
   "execution_count": 4,
   "metadata": {
    "scrolled": true
   },
   "outputs": [
    {
     "data": {
      "text/html": [
       "<div>\n",
       "<table border=\"1\" class=\"dataframe\">\n",
       "  <thead>\n",
       "    <tr style=\"text-align: right;\">\n",
       "      <th></th>\n",
       "      <th>1 persona</th>\n",
       "      <th>2 personas</th>\n",
       "      <th>3 personas</th>\n",
       "      <th>4 personas</th>\n",
       "      <th>5 personas</th>\n",
       "      <th>6 y más personas</th>\n",
       "      <th>Tramo del ingreso</th>\n",
       "    </tr>\n",
       "  </thead>\n",
       "  <tbody>\n",
       "    <tr>\n",
       "      <th>0</th>\n",
       "      <td>0 a \\$105.000</td>\n",
       "      <td>0 a \\$171.000</td>\n",
       "      <td>0 a \\$227.000</td>\n",
       "      <td>0 a \\$278.000</td>\n",
       "      <td>0 a \\$325.000</td>\n",
       "      <td>0 a \\$370.000</td>\n",
       "      <td>1</td>\n",
       "    </tr>\n",
       "    <tr>\n",
       "      <th>1</th>\n",
       "      <td>\\$105.001 a \\$152.000</td>\n",
       "      <td>\\$171.001 a \\$247.000</td>\n",
       "      <td>\\$227.001 a \\$328.000</td>\n",
       "      <td>\\$278.001 a \\$401.000</td>\n",
       "      <td>\\$325.001 a \\$470.000</td>\n",
       "      <td>\\$370.001 a \\$530.000</td>\n",
       "      <td>2</td>\n",
       "    </tr>\n",
       "    <tr>\n",
       "      <th>2</th>\n",
       "      <td>\\$152.001 a \\$267.000</td>\n",
       "      <td>\\$247.001 a \\$434.000</td>\n",
       "      <td>\\$328.001 a \\$580.000</td>\n",
       "      <td>\\$401.001 a \\$705.000</td>\n",
       "      <td>\\$470.001 a \\$825.000</td>\n",
       "      <td>\\$530.001 a \\$940.000</td>\n",
       "      <td>3</td>\n",
       "    </tr>\n",
       "    <tr>\n",
       "      <th>3</th>\n",
       "      <td>\\$267.001 a \\$544.000</td>\n",
       "      <td>\\$434.001 a \\$880.000</td>\n",
       "      <td>\\$580.001 a \\$1.180.000</td>\n",
       "      <td>\\$705.001 a \\$1.450.000</td>\n",
       "      <td>\\$825.001 a \\$1.700.000</td>\n",
       "      <td>\\$940.001 a \\$1.900.000</td>\n",
       "      <td>4</td>\n",
       "    </tr>\n",
       "    <tr>\n",
       "      <th>4</th>\n",
       "      <td>\\$544.001 a \\$1.100.000</td>\n",
       "      <td>\\$880.001 a \\$1.780.000</td>\n",
       "      <td>\\$1.180.001 a \\$2.370.000</td>\n",
       "      <td>\\$1.450.001 a \\$2.900.000</td>\n",
       "      <td>\\$1.700.001 a \\$3.400.000</td>\n",
       "      <td>\\$1.900.001 a \\$3.800.000</td>\n",
       "      <td>5</td>\n",
       "    </tr>\n",
       "    <tr>\n",
       "      <th>5</th>\n",
       "      <td>\\$1.100.001 o más</td>\n",
       "      <td>\\$1.780.001 o más</td>\n",
       "      <td>\\$2.370.001 o más</td>\n",
       "      <td>\\$2.900.001 o más</td>\n",
       "      <td>\\$3.400.001 o más</td>\n",
       "      <td>\\$3.800.001 o más</td>\n",
       "      <td>6</td>\n",
       "    </tr>\n",
       "  </tbody>\n",
       "</table>\n",
       "</div>"
      ],
      "text/plain": [
       "                 1 persona               2 personas  \\\n",
       "0            0 a \\$105.000            0 a \\$171.000   \n",
       "1    \\$105.001 a \\$152.000    \\$171.001 a \\$247.000   \n",
       "2    \\$152.001 a \\$267.000    \\$247.001 a \\$434.000   \n",
       "3    \\$267.001 a \\$544.000    \\$434.001 a \\$880.000   \n",
       "4  \\$544.001 a \\$1.100.000  \\$880.001 a \\$1.780.000   \n",
       "5        \\$1.100.001 o más        \\$1.780.001 o más   \n",
       "\n",
       "                  3 personas                 4 personas  \\\n",
       "0              0 a \\$227.000              0 a \\$278.000   \n",
       "1      \\$227.001 a \\$328.000      \\$278.001 a \\$401.000   \n",
       "2      \\$328.001 a \\$580.000      \\$401.001 a \\$705.000   \n",
       "3    \\$580.001 a \\$1.180.000    \\$705.001 a \\$1.450.000   \n",
       "4  \\$1.180.001 a \\$2.370.000  \\$1.450.001 a \\$2.900.000   \n",
       "5          \\$2.370.001 o más          \\$2.900.001 o más   \n",
       "\n",
       "                  5 personas           6 y más personas  Tramo del ingreso  \n",
       "0              0 a \\$325.000              0 a \\$370.000                  1  \n",
       "1      \\$325.001 a \\$470.000      \\$370.001 a \\$530.000                  2  \n",
       "2      \\$470.001 a \\$825.000      \\$530.001 a \\$940.000                  3  \n",
       "3    \\$825.001 a \\$1.700.000    \\$940.001 a \\$1.900.000                  4  \n",
       "4  \\$1.700.001 a \\$3.400.000  \\$1.900.001 a \\$3.800.000                  5  \n",
       "5          \\$3.400.001 o más          \\$3.800.001 o más                  6  "
      ]
     },
     "execution_count": 4,
     "metadata": {},
     "output_type": "execute_result"
    }
   ],
   "source": [
    "df1"
   ]
  },
  {
   "cell_type": "markdown",
   "metadata": {},
   "source": [
    "Leyendo el manual y diccionario de variables de la encuesta (disponible [aquí](https://www.desiguales.org/s/Manual_Metodologico_Uso_.pdf)), nos damos cuenta que estos tramos corresponden, utilizando la encuesta CASEN 2015, a cortes de la distribución correspondientes a: el 15% de menores ingresos, el siguiente 25%, el siguiente 30%, el siguiente 15%, el siguiente 10%, y el 5% de mayores ingresos. Esto ya es interesante porque puede calcular inmediatamente en cuál tramo se encuentra.\n",
    "\n",
    "Veamos a cuánta gente se entrevistó para dicha encuesta."
   ]
  },
  {
   "cell_type": "code",
   "execution_count": 5,
   "metadata": {
    "scrolled": true
   },
   "outputs": [
    {
     "data": {
      "text/plain": [
       "2613"
      ]
     },
     "execution_count": 5,
     "metadata": {},
     "output_type": "execute_result"
    }
   ],
   "source": [
    "len(df)"
   ]
  },
  {
   "cell_type": "markdown",
   "metadata": {},
   "source": [
    "Dicho número coincide con la información del manual y diccionario de variables anteriormente mencionado.\n",
    "\n",
    "## Satisfacción personal\n",
    "\n",
    "Veamos algunos datos estadísticos de la pregunta 6 que se refiere a cuán satisfecha están las personas con su vida. Por si acaso, la pregunta era:\n",
    "\n",
    "**Pregunta 6.-** Considerando todas las cosas, ¿cuán satisfecho o insatisfecho está usted con su vida en este momento? Por favor use esta tarjeta en que 1 significa que usted está \"completamente insatisfecho\" y 10 significa que usted está \"completamente satisfecho\""
   ]
  },
  {
   "cell_type": "code",
   "execution_count": 6,
   "metadata": {},
   "outputs": [
    {
     "data": {
      "text/plain": [
       "count    2612.000000\n",
       "mean        7.353752\n",
       "std         2.028439\n",
       "min         1.000000\n",
       "25%         6.000000\n",
       "50%         8.000000\n",
       "75%         9.000000\n",
       "max        10.000000\n",
       "Name: p6, dtype: float64"
      ]
     },
     "execution_count": 6,
     "metadata": {},
     "output_type": "execute_result"
    },
    {
     "data": {
      "image/png": "[encoded data removed]",
      "text/plain": [
       "<matplotlib.figure.Figure at 0x10ddf5210>"
      ]
     },
     "metadata": {
      "image/png": {
       "height": 371,
       "width": 525
      }
     },
     "output_type": "display_data"
    }
   ],
   "source": [
    "df_p6 = df['p6'][df['p6'].apply(lambda x: x not in [88, 99])]\n",
    "df_p6.hist(bins=10, range=(.5,10.5))\n",
    "plt.title(\"Satisfaccion personal\")\n",
    "df_p6.describe()"
   ]
  },
  {
   "cell_type": "markdown",
   "metadata": {},
   "source": [
    "De los datos hemos excluído las personas que respondieron 'no sabe (88)/no responde (99)' (*Nota: de hecho, es sólo una persona como podemos ver en la variable 'count' que sólo se diferencia por 1 del número total de entrevistados, 2.613, anteriormente visto*).\n",
    "\n",
    "Lo primero que me sorprende es que la mayoría de las personas están bastante satisfechas de su vida. Si nos fijamos, el promedio es de 7.35/10 y la mediana (50% de la gente sobre la mediana/50% de la gente debajo de la mediana) es de 8/10. Siempre había escuchado con escepticismo este hecho pero esta encuesta parece confirmarlo.\n",
    "\n",
    "## Libertad para elegir\n",
    "\n",
    "Veamos algunos datos estadísticos de la pregunta 7. Por si acaso, la pregunta era:\n",
    "\n",
    "**Pregunta 7.-** Imagine una escalera de 10 escalones donde en la parte de abajo, el primer escalón, están las personas que no tienen libertad de elegir y/o decidir sobre su vida y en el escalón más alto, el décimo, están los que tienen más libertad de elegir y/o decidir sobre su vida. ¿En qué escalón está usted hoy?"
   ]
  },
  {
   "cell_type": "code",
   "execution_count": 7,
   "metadata": {},
   "outputs": [
    {
     "data": {
      "text/plain": [
       "count    2612.000000\n",
       "mean        7.972052\n",
       "std         2.014783\n",
       "min         1.000000\n",
       "25%         7.000000\n",
       "50%         8.000000\n",
       "75%        10.000000\n",
       "max        10.000000\n",
       "Name: p7, dtype: float64"
      ]
     },
     "execution_count": 7,
     "metadata": {},
     "output_type": "execute_result"
    },
    {
     "data": {
      "image/png": "[encoded data removed]",
      "text/plain": [
       "<matplotlib.figure.Figure at 0x10ddf5110>"
      ]
     },
     "metadata": {
      "image/png": {
       "height": 371,
       "width": 525
      }
     },
     "output_type": "display_data"
    }
   ],
   "source": [
    "df_p7 = df['p7'][df['p7'].apply(lambda x: x not in [88, 99])]\n",
    "df_p7.hist(bins=10, range=(.5,10.5))\n",
    "plt.title(\"Libertad para elegir\")\n",
    "df_p7.describe()"
   ]
  },
  {
   "cell_type": "markdown",
   "metadata": {},
   "source": [
    "Nuevamente me sorprende el hecho de que la mayoría de las personas siente que tiene bastante libertad de elegir y decidir sobre su vida. Personalmente, hubiera pensado que sólo gente extremadamente rica se siente con total libertad de elegir y decidir sobre su vida, pero observando los datos, la moda (o sea el valor más frecuente) es 10/10, el promedio es 7.97/10 y la mediana es 8/10.\n",
    "\n",
    "De los datos nuevamente hemos excluído las personas que respondieron 'no sabe (88)/no responde (99)' (*Nota: de hecho, es sólo una persona como podemos ver en la variable 'count' que sólo se diferencia por 1 del número total de entrevistados 2.613 anteriormente visto. De puro curioso miré, pero no es la misma persona de la pregunta 6*).\n",
    "\n",
    "## Tramo socioeconómico\n",
    "\n",
    "Veamos ahora algunos datos estadísticos sobre la pregunta 67. Por si acaso, esa pregunta era:\n",
    "\n",
    "**Pregunta 67.-** ¿En cuál de los siguientes rangos estima usted que se ubica el ingreso mensual **total de su hogar** (incluya sueldos, pensiones, rentas, etc.)? Considere el **ingreso líquido de todas estas personas juntas.**"
   ]
  },
  {
   "cell_type": "code",
   "execution_count": 8,
   "metadata": {},
   "outputs": [
    {
     "data": {
      "text/plain": [
       "count    2613.000000\n",
       "mean        4.107157\n",
       "std         2.226459\n",
       "min         1.000000\n",
       "25%         2.000000\n",
       "50%         4.000000\n",
       "75%         5.000000\n",
       "max         9.000000\n",
       "Name: p67, dtype: float64"
      ]
     },
     "execution_count": 8,
     "metadata": {},
     "output_type": "execute_result"
    },
    {
     "data": {
      "image/png": "[encoded data removed]",
      "text/plain": [
       "<matplotlib.figure.Figure at 0x10e502f10>"
      ]
     },
     "metadata": {
      "image/png": {
       "height": 371,
       "width": 521
      }
     },
     "output_type": "display_data"
    }
   ],
   "source": [
    "df_p67 = df['p67']\n",
    "df_p67.hist(bins=6, range=(.5,6.5))\n",
    "plt.title(\"Tramo Socioeconomico\")\n",
    "df_p67.describe()"
   ]
  },
  {
   "cell_type": "markdown",
   "metadata": {},
   "source": [
    "Los datos parecen seguir los porcentajes esperados aunque el tramo 6 está un poco sobrerrepresentado (quizás si alguién se anima a utilizar los ponderadores eso se resuelve).\n",
    "\n",
    "Lo que me interesa de la pregunta 67 es más que nada buscar la correlación posible entre tramo socioeconómico y satisfacción personal, y entre tramo socioeconómico y libertad para elegir. Como no cuesta nada, veamos la correlación también entre satisfacción personal y libertad para elegir.\n",
    "\n",
    "## Correlaciones cruzadas"
   ]
  },
  {
   "cell_type": "code",
   "execution_count": 9,
   "metadata": {},
   "outputs": [
    {
     "data": {
      "text/html": [
       "<div>\n",
       "<table border=\"1\" class=\"dataframe\">\n",
       "  <thead>\n",
       "    <tr style=\"text-align: right;\">\n",
       "      <th></th>\n",
       "      <th>p6</th>\n",
       "      <th>p7</th>\n",
       "      <th>p67</th>\n",
       "    </tr>\n",
       "  </thead>\n",
       "  <tbody>\n",
       "    <tr>\n",
       "      <th>p6</th>\n",
       "      <td>1.000000</td>\n",
       "      <td>0.308680</td>\n",
       "      <td>0.136008</td>\n",
       "    </tr>\n",
       "    <tr>\n",
       "      <th>p7</th>\n",
       "      <td>0.308680</td>\n",
       "      <td>1.000000</td>\n",
       "      <td>0.024011</td>\n",
       "    </tr>\n",
       "    <tr>\n",
       "      <th>p67</th>\n",
       "      <td>0.136008</td>\n",
       "      <td>0.024011</td>\n",
       "      <td>1.000000</td>\n",
       "    </tr>\n",
       "  </tbody>\n",
       "</table>\n",
       "</div>"
      ],
      "text/plain": [
       "           p6        p7       p67\n",
       "p6   1.000000  0.308680  0.136008\n",
       "p7   0.308680  1.000000  0.024011\n",
       "p67  0.136008  0.024011  1.000000"
      ]
     },
     "execution_count": 9,
     "metadata": {},
     "output_type": "execute_result"
    }
   ],
   "source": [
    "df[['p6', 'p7', 'p67']].corr()"
   ]
  },
  {
   "cell_type": "markdown",
   "metadata": {},
   "source": [
    "Al ver las correlaciones, nos damos cuenta que no hay correlación (o es bastante insignificante) entre libertad para elegir (p7) y tramo socioeconómico al que perteneces (p67), $r=0.02$ (lo cuál me sorprende bastante como había señalado con anterioridad). Similarmente, es bastante baja la correlación entre satisfacción personal (p6) y tramo socioeconómico (p67), $r=0.14$ (con dinero o sin dinero, ...). Entre las correlaciones, la más significativa (aunque tampoco demasiado alta) parece ser la correlación entre satisfacción personal (p6) y libertad para elegir (p7). Para tener una idea de que quieren decir dichas correlaciones vea [esta página](http://rpsychologist.com/d3/correlation/) y encuentre dichos valores con 'slide me'."
   ]
  },
  {
   "cell_type": "markdown",
   "metadata": {},
   "source": [
    "## Conclusión"
   ]
  },
  {
   "cell_type": "markdown",
   "metadata": {},
   "source": [
    "La idea de este post era sólo analizar algunas preguntas que me interesaron de la encuesta realizada por el [Programa de las Naciones Unidas para el Desarrollo](http://www.undp.org/content/undp/es/home.html) y utilizadas para la publicación del libro [\"Desiguales: Orígenes, cambios y desafíos de la brecha social en Chile\"](https://www.desiguales.org/). Además, es una base de datos pequeña que me permite jugar y visualizar datos sin la necesidad de utilizar la nube u otros subterfugios. Espero en el futuro poder analizar otras preguntas de la encuesta que me parecen igualmente interesantes.\n",
    "\n",
    "¡Nos vemos!"
   ]
  },
  {
   "cell_type": "markdown",
   "metadata": {},
   "source": [
    "Lo invito a descargar [este notebook](http://www.dim.uchile.cl/~alsilva/PNUD1.ipynb), el [ambiente de trabajo](http://www.dim.uchile.cl/~alsilva/Weblog/PNUD1/ambiente.yaml) y/o los [requerimientos](http://www.dim.uchile.cl/~alsilva/Weblog/PNUD1/requisitos.txt).\n",
    "\n",
    "*Nota: Gracias a [Patricio Reyes](https://pareyesv.github.io/) [@pareyesv](https://twitter.com/pareyesv) por el notebook depurado.*"
   ]
  },
  {
   "cell_type": "raw",
   "metadata": {
    "collapsed": true
   },
   "source": [
    "<script>\n",
    "  $(document).ready(function(){\n",
    "    $('div.prompt').hide();\n",
    "    $('div.back-to-top').hide();\n",
    "    $('nav#menubar').hide();\n",
    "    $('.breadcrumb').hide();\n",
    "    $('.hidden-print').hide();\n",
    "  });\n",
    "</script>\n",
    "\n",
    "<footer id=\"attribution\" style=\"float:right; color:#999; background:#fff;\">\n",
    "Creado con Jupyter.\n",
    "</footer>"
   ]
  },
  {
   "cell_type": "raw",
   "metadata": {
    "collapsed": true
   },
   "source": [
    "<div id=\"disqus_thread\"></div>\n",
    "<script>\n",
    "\n",
    "/**\n",
    "*  RECOMMENDED CONFIGURATION VARIABLES: EDIT AND UNCOMMENT THE SECTION BELOW TO INSERT DYNAMIC VALUES FROM YOUR PLATFORM OR CMS.\n",
    "*  LEARN WHY DEFINING THESE VARIABLES IS IMPORTANT: https://disqus.com/admin/universalcode/#configuration-variables*/\n",
    "/*\n",
    "var disqus_config = function () {\n",
    "this.page.url = PAGE_URL;  // Replace PAGE_URL with your page's canonical URL variable\n",
    "this.page.identifier = PAGE_IDENTIFIER; // Replace PAGE_IDENTIFIER with your page's unique identifier variable\n",
    "};\n",
    "*/\n",
    "(function() { // DON'T EDIT BELOW THIS LINE\n",
    "var d = document, s = d.createElement('script');\n",
    "s.src = 'https://alonsosilva.disqus.com/embed.js';\n",
    "s.setAttribute('data-timestamp', +new Date());\n",
    "(d.head || d.body).appendChild(s);\n",
    "})();\n",
    "</script>\n",
    "<noscript>Please enable JavaScript to view the <a href=\"https://disqus.com/?ref_noscript\">comments powered by Disqus.</a></noscript>\n",
    "\n",
    "<div class=\"cell border-box-sizing code_cell rendered\">\n",
    "<div class=\"input\">\n",
    "<div class=\"prompt input_prompt\">In&nbsp;[&nbsp;]:</div>\n",
    "<div class=\"inner_cell\">\n",
    "    <div class=\"input_area\">\n",
    "<div class=\" highlight hl-ipython2\"><pre><span></span>\n",
    "</pre></div>\n",
    "<script id=\"dsq-count-scr\" src=\"//alonsosilva.disqus.com/count.js\" async></script>"
   ]
  }
 ],
 "metadata": {
  "kernelspec": {
   "display_name": "Python [conda env:DAND]",
   "language": "python",
   "name": "conda-env-DAND-py"
  },
  "language_info": {
   "codemirror_mode": {
    "name": "ipython",
    "version": 2
   },
   "file_extension": ".py",
   "mimetype": "text/x-python",
   "name": "python",
   "nbconvert_exporter": "python",
   "pygments_lexer": "ipython2",
   "version": "2.7.12"
  }
 },
 "nbformat": 4,
 "nbformat_minor": 2
}
